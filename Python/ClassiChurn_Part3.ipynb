{
  "nbformat": 4,
  "nbformat_minor": 0,
  "metadata": {
    "colab": {
      "name": "ClassiChurn Part3.ipynb",
      "provenance": [],
      "collapsed_sections": []
    },
    "kernelspec": {
      "name": "python3",
      "display_name": "Python 3"
    },
    "language_info": {
      "name": "python"
    },
    "accelerator": "GPU"
  },
  "cells": [
    {
      "cell_type": "markdown",
      "source": [
        "BINARY CLASSIFICATION USING NEURAL NETWORK "
      ],
      "metadata": {
        "id": "2-UFh7HFLpbd"
      }
    },
    {
      "cell_type": "code",
      "execution_count": null,
      "metadata": {
        "colab": {
          "base_uri": "https://localhost:8080/"
        },
        "id": "8IMhieHhlGn5",
        "outputId": "f66c3bcb-5aa4-4462-b99c-e82d3a1e4585"
      },
      "outputs": [
        {
          "output_type": "stream",
          "name": "stdout",
          "text": [
            "Drive already mounted at /content/gdrive; to attempt to forcibly remount, call drive.mount(\"/content/gdrive\", force_remount=True).\n"
          ]
        }
      ],
      "source": [
        "from google.colab import drive\n",
        "from google.colab import files\n",
        "drive.mount('/content/gdrive')\n",
        "\n",
        "import pandas as pd\n",
        "\n",
        "import numpy as np\n",
        "from numpy import vstack\n",
        "\n",
        "import seaborn as sns\n",
        "\n",
        "import matplotlib.pyplot as plt\n",
        "\n",
        "from sklearn.preprocessing import StandardScaler\n",
        "from sklearn.metrics import confusion_matrix, classification_report\n",
        "from sklearn.metrics import accuracy_score\n",
        "from sklearn.metrics import roc_curve, auc \n",
        "\n",
        "import torch\n",
        "import torch.nn as nn\n",
        "import torch.optim as optim\n",
        "\n",
        "from torch.nn import ReLU\n",
        "from torch.nn import Sigmoid\n",
        "from torch.nn.init import xavier_uniform_\n",
        "from torch.nn.init import kaiming_uniform_\n",
        "\n",
        "\n",
        "from torch.utils.data import Dataset, DataLoader"
      ]
    },
    {
      "cell_type": "markdown",
      "source": [
        " ▶  Importation du jeu d'entrainement & de test :"
      ],
      "metadata": {
        "id": "ptrVb8EwL33-"
      }
    },
    {
      "cell_type": "code",
      "source": [
        "df_train = pd.read_csv (\"/content/gdrive/My Drive/Colab Notebooks/CHURN/churner_train_data_set.csv\")\n",
        "df_test = pd.read_csv (\"/content/gdrive/My Drive/Colab Notebooks/CHURN/churner_test_data_set.csv\")\n"
      ],
      "metadata": {
        "id": "EGwtmppFmL_M"
      },
      "execution_count": null,
      "outputs": []
    },
    {
      "cell_type": "markdown",
      "source": [
        " \n",
        " \n",
        " ▶ Analyse de la distribution de la variable \"churn\"\n",
        "-  Environ 1/10 de churner par jeu "
      ],
      "metadata": {
        "id": "7oOGnOSjM_Rp"
      }
    },
    {
      "cell_type": "code",
      "source": [
        "#sns.countplot(x = \"churner\", data=df_train)\n",
        "sns.countplot(x = \"churner\", data=df_test)"
      ],
      "metadata": {
        "colab": {
          "base_uri": "https://localhost:8080/",
          "height": 296
        },
        "id": "KpZ2BYZrmzHw",
        "outputId": "7bac44a1-72e1-47f1-8cb5-360d5b00d47a"
      },
      "execution_count": null,
      "outputs": [
        {
          "output_type": "execute_result",
          "data": {
            "text/plain": [
              "<matplotlib.axes._subplots.AxesSubplot at 0x7fb58397f250>"
            ]
          },
          "metadata": {},
          "execution_count": 4
        },
        {
          "output_type": "display_data",
          "data": {
            "text/plain": [
              "<Figure size 432x288 with 1 Axes>"
            ],
            "image/png": "[encoded data removed]"
          },
          "metadata": {
            "needs_background": "light"
          }
        }
      ]
    },
    {
      "cell_type": "markdown",
      "source": [
        " ▶ Définition de DataLoader particulier \n",
        " - 3 composants principals :    \n",
        "- __ init __ : initialise les opérations qui \"lit\" les données\n",
        "- __ getitem __ : renvoi la valeur d'un batch\n",
        "- __ len __ : renvoi la taille de la donnée en input"
      ],
      "metadata": {
        "id": "DfIbA6VAN_Yk"
      }
    },
    {
      "cell_type": "code",
      "source": [
        "class TrainData(Dataset):\n",
        "  def __init__(self, x_data, y_data):\n",
        "    self.x_data = x_data\n",
        "    self.y_data = y_data\n",
        "\n",
        "  def __getitem__(self, index):\n",
        "    return self.x_data[index], self.y_data[index]\n",
        "\n",
        "  def __len__(self):\n",
        "    return len(self.x_data)\n",
        "\n",
        "class TestData(Dataset):\n",
        "  def __init__(self, x_data, y_data):\n",
        "    self.x_data = x_data\n",
        "    self.y_data = y_data\n",
        "\n",
        "  def __getitem__(self, index):\n",
        "    return self.x_data[index], self.y_data[index]\n",
        "\n",
        "  def __len__(self):\n",
        "    return len(self.x_data)\n",
        "\n"
      ],
      "metadata": {
        "id": "l6G9XDjAm5WT"
      },
      "execution_count": null,
      "outputs": []
    },
    {
      "cell_type": "code",
      "source": [
        "class NN(nn.Module):\n",
        "\n",
        "  def __init__(self, INPUT_SIZE, OUTPUT_SIZE):\n",
        "    super(NN, self).__init__()\n",
        "\n",
        "    self.layer_1 = nn.Linear(INPUT_SIZE, 50)\n",
        "\n",
        "    #self.layer_2 = nn.Linear(50, 50)\n",
        "\n",
        "    self.layer_out = nn.Linear(50, OUTPUT_SIZE)\n",
        "    \n",
        "\n",
        "\n",
        "  def forward(self, inputs):\n",
        "    \n",
        "    x = torch.relu(self.layer_1(inputs))\n",
        "    #x = torch.relu(self.layer_2(x))\n",
        "    x = torch.sigmoid(self.layer_out(x))\n",
        "    \n",
        "    return x\n"
      ],
      "metadata": {
        "id": "bESRkAIOm5kq"
      },
      "execution_count": null,
      "outputs": []
    },
    {
      "cell_type": "code",
      "source": [
        "class MLP(nn.Module):\n",
        "    # define model elements\n",
        "    def __init__(self, n_inputs, output_size):\n",
        "        super(MLP, self).__init__()\n",
        "\n",
        "        # input to first hidden layer\n",
        "        self.hidden1 = nn.Linear(n_inputs, 100)\n",
        "        kaiming_uniform_(self.hidden1.weight, nonlinearity='relu')\n",
        "        self.act1 = ReLU()\n",
        "\n",
        "        # second hidden layer\n",
        "        self.hidden2 = nn.Linear(000, 100)\n",
        "        kaiming_uniform_(self.hidden2.weight, nonlinearity='relu')\n",
        "        self.act2 = ReLU()\n",
        "        self.dropout2 = nn.Dropout(p = 0.1)\n",
        "\n",
        "        self.hidden3 = nn.Linear(100, 100)\n",
        "        kaiming_uniform_(self.hidden3.weight, nonlinearity='relu')\n",
        "        self.act3 = ReLU()\n",
        "        self.dropout3 = nn.Dropout(p = 0.1)\n",
        "\n",
        "        self.hidden4 = nn.Linear(100, 8)\n",
        "        kaiming_uniform_(self.hidden4.weight, nonlinearity='relu')\n",
        "        self.act4 = ReLU()\n",
        "        self.dropout4 = nn.Dropout(p = 0.1)\n",
        "\n",
        "        # third hidden layer and output\n",
        "        self.hidden5 = nn.Linear(8, output_size)\n",
        "        xavier_uniform_(self.hidden5.weight)\n",
        "        self.act5 = Sigmoid()\n",
        " \n",
        "    # forward propagate input\n",
        "    def forward(self, X):\n",
        "        # input to first hidden layer\n",
        "        X = self.hidden1(X)\n",
        "        X = self.act1(X)\n",
        "         # second hidden layer\n",
        "        X = self.hidden2(X)\n",
        "        X = self.act2(X)\n",
        "        X = self.dropout2(X)\n",
        "\n",
        "        X = self.hidden3(X)\n",
        "        X = self.act3(X)\n",
        "        X = self.dropout3(X)\n",
        "\n",
        "        X = self.hidden4(X)\n",
        "        X = self.act4(X)\n",
        "        X = self.dropout4(X)\n",
        "\n",
        "        # third hidden layer and output\n",
        "        X = self.hidden5(X)\n",
        "        X = self.act5(X)\n",
        "        return X"
      ],
      "metadata": {
        "id": "fWAsqKcQDxCE"
      },
      "execution_count": null,
      "outputs": []
    },
    {
      "cell_type": "code",
      "source": [
        ""
      ],
      "metadata": {
        "id": "FNgosqKdm5xo"
      },
      "execution_count": null,
      "outputs": []
    },
    {
      "cell_type": "code",
      "source": [
        "def train_model(EPOCHS, model, train_loader):\n",
        "  model.train()\n",
        "  for e in range(1, EPOCHS+1):\n",
        "    epoch_loss = 0\n",
        "    epoch_acc = 0\n",
        "    losses = np.zeros(EPOCHS+1)\n",
        "    for x_batch, y_batch in train_loader:\n",
        "      optimizer.zero_grad()\n",
        "\n",
        "      y_pred = model(x_batch)\n",
        "      #for element in y_pred :\n",
        "      #  print(element)\n",
        "\n",
        "      loss = criterion(y_pred, y_batch.reshape(-1,1))\n",
        "\n",
        "      losses[e] = loss\n",
        "\n",
        "      predicted = model(torch.tensor(x_train, dtype=torch.float32))\n",
        "      acc = (predicted.reshape(-1).detach().numpy().round()==y_train).mean()\n",
        "      #accc = acc(y_pred, y_batch.unsqueeze(1))\n",
        "\n",
        "      # calcul du gradient (et retropropagation) ? ? ?? ? ? \n",
        "      loss.backward()\n",
        "      # maj des poids synaptiques ? ? ?? ? ? \n",
        "      optimizer.step()\n",
        "\n",
        "      epoch_loss += loss.item()\n",
        "      #epoch_acc += accc.item()\n",
        "      epoch_acc += acc\n",
        "\n",
        "    print(f'Epoch {e+0:03}:| Loss: {epoch_loss/len(train_loader):.5f} | Acc : {epoch_acc/len(train_loader):.3f}')\n",
        "  return losses\n"
      ],
      "metadata": {
        "id": "EiO8LM9jm58f"
      },
      "execution_count": null,
      "outputs": []
    },
    {
      "cell_type": "markdown",
      "source": [
        ""
      ],
      "metadata": {
        "id": "ghXV3a1t8dwi"
      }
    },
    {
      "cell_type": "code",
      "source": [
        "x_train = df_train.iloc[:, 1:-1]\n",
        "y_train = df_train.iloc[:, -1]\n",
        "x_test = df_test.iloc[:, 1:-1] \n",
        "y_test = df_test.iloc[:, -1]\n",
        "\n",
        "print(x_train.shape, y_train.shape, x_test.shape, y_test.shape)"
      ],
      "metadata": {
        "colab": {
          "base_uri": "https://localhost:8080/"
        },
        "id": "sAejEbe2XIJF",
        "outputId": "d59851e7-24df-4108-bab8-48a59c3ee892"
      },
      "execution_count": null,
      "outputs": [
        {
          "output_type": "stream",
          "name": "stdout",
          "text": [
            "(57996, 131) (57996,) (14499, 131) (14499,)\n"
          ]
        }
      ]
    },
    {
      "cell_type": "code",
      "source": [
        "\n"
      ],
      "metadata": {
        "id": "9Jrhu6xIXIP1"
      },
      "execution_count": null,
      "outputs": []
    },
    {
      "cell_type": "code",
      "source": [
        "#means = x_train.mean()\n",
        "#std = x_train.std()\n",
        "#x_train = x_train - means\n",
        "#x_train = x_train / std\n",
        "#x_test = x_test - means\n",
        "#x_test = x_test / std\n",
        "\n",
        "scaler = StandardScaler()\n",
        "x_train = scaler.fit_transform(x_train)\n",
        "x_test = scaler.fit_transform(x_test)\n"
      ],
      "metadata": {
        "id": "ouyGfF5l9Rxr"
      },
      "execution_count": null,
      "outputs": []
    },
    {
      "cell_type": "code",
      "source": [
        "INPUT_SIZE = 131\n",
        "OUTPUT_SIZE = 1\n",
        "EPOCHS = 200\n",
        "BATCH_SIZE = 1024\n",
        "LEARNING_RATE = 0.01\n",
        "MOMENTUM = 0.9"
      ],
      "metadata": {
        "id": "OgdGC1EmXIWV"
      },
      "execution_count": null,
      "outputs": []
    },
    {
      "cell_type": "code",
      "source": [
        "train_data = TrainData(torch.FloatTensor(x_train), torch.FloatTensor(y_train))\n",
        "test_data = TestData(torch.FloatTensor(x_test), torch.FloatTensor(y_test))\n",
        "\n",
        "train_loader = DataLoader(dataset = train_data, batch_size = BATCH_SIZE, shuffle = True)\n",
        "test_loader = DataLoader(dataset = test_data, batch_size = BATCH_SIZE, shuffle = True)"
      ],
      "metadata": {
        "id": "sL3NqqeaXIdG"
      },
      "execution_count": null,
      "outputs": []
    },
    {
      "cell_type": "code",
      "source": [
        "model = NN(INPUT_SIZE, OUTPUT_SIZE)\n",
        "print(model)\n",
        "model = MLP(INPUT_SIZE, OUTPUT_SIZE)\n",
        "print(model)"
      ],
      "metadata": {
        "colab": {
          "base_uri": "https://localhost:8080/"
        },
        "id": "m_3l3EbhXIkQ",
        "outputId": "82dae8e7-cc78-4eff-9411-e0a72020deab"
      },
      "execution_count": null,
      "outputs": [
        {
          "output_type": "stream",
          "name": "stdout",
          "text": [
            "NN(\n",
            "  (layer_1): Linear(in_features=131, out_features=50, bias=True)\n",
            "  (layer_out): Linear(in_features=50, out_features=1, bias=True)\n",
            ")\n",
            "MLP(\n",
            "  (hidden1): Linear(in_features=131, out_features=1000, bias=True)\n",
            "  (act1): ReLU()\n",
            "  (hidden2): Linear(in_features=1000, out_features=1000, bias=True)\n",
            "  (act2): ReLU()\n",
            "  (dropout2): Dropout(p=0.1, inplace=False)\n",
            "  (hidden3): Linear(in_features=1000, out_features=1000, bias=True)\n",
            "  (act3): ReLU()\n",
            "  (dropout3): Dropout(p=0.1, inplace=False)\n",
            "  (hidden4): Linear(in_features=1000, out_features=8, bias=True)\n",
            "  (act4): ReLU()\n",
            "  (dropout4): Dropout(p=0.1, inplace=False)\n",
            "  (hidden5): Linear(in_features=8, out_features=1, bias=True)\n",
            "  (act5): Sigmoid()\n",
            ")\n"
          ]
        }
      ]
    },
    {
      "cell_type": "code",
      "source": [
        "criterion = nn.BCELoss()\n",
        "optimizer = optim.SGD(model.parameters(), lr=LEARNING_RATE, momentum = MOMENTUM)"
      ],
      "metadata": {
        "id": "evPSOdteXIsN"
      },
      "execution_count": null,
      "outputs": []
    },
    {
      "cell_type": "code",
      "source": [
        "losses = train_model(EPOCHS, model, train_loader)\n",
        "\n",
        "#train_model2(EPOCHS, model, train_loader)\n",
        "\n",
        "print(losses) \n",
        "\n",
        "plt.plot(np.array(losses), 'r')\n",
        "plt.title(\"Evolution de la fonction de perte\")\n",
        "plt.xlabel(\"EPOCHS\")\n",
        "plt.ylabel(\"Loss\")\n",
        "plt.show()"
      ],
      "metadata": {
        "colab": {
          "base_uri": "https://localhost:8080/"
        },
        "id": "MyYA_U6qXJ8i",
        "outputId": "42663782-16e8-4c5b-a1a1-8335f5d2f2cc"
      },
      "execution_count": null,
      "outputs": [
        {
          "output_type": "stream",
          "name": "stdout",
          "text": [
            "Epoch 001:| Loss: 0.26113 | Acc : 0.926\n",
            "Epoch 002:| Loss: 0.19552 | Acc : 0.937\n",
            "Epoch 003:| Loss: 0.18717 | Acc : 0.937\n",
            "Epoch 004:| Loss: 0.18080 | Acc : 0.937\n",
            "Epoch 005:| Loss: 0.17987 | Acc : 0.937\n",
            "Epoch 006:| Loss: 0.17470 | Acc : 0.937\n",
            "Epoch 007:| Loss: 0.17287 | Acc : 0.937\n",
            "Epoch 008:| Loss: 0.16952 | Acc : 0.937\n",
            "Epoch 009:| Loss: 0.16888 | Acc : 0.937\n",
            "Epoch 010:| Loss: 0.16585 | Acc : 0.937\n",
            "Epoch 011:| Loss: 0.16489 | Acc : 0.937\n",
            "Epoch 012:| Loss: 0.16218 | Acc : 0.937\n",
            "Epoch 013:| Loss: 0.16077 | Acc : 0.938\n",
            "Epoch 014:| Loss: 0.15790 | Acc : 0.939\n",
            "Epoch 015:| Loss: 0.15775 | Acc : 0.940\n",
            "Epoch 016:| Loss: 0.15518 | Acc : 0.940\n",
            "Epoch 017:| Loss: 0.15438 | Acc : 0.941\n",
            "Epoch 018:| Loss: 0.15228 | Acc : 0.942\n",
            "Epoch 019:| Loss: 0.15214 | Acc : 0.942\n",
            "Epoch 020:| Loss: 0.14863 | Acc : 0.942\n",
            "Epoch 021:| Loss: 0.14850 | Acc : 0.942\n",
            "Epoch 022:| Loss: 0.14825 | Acc : 0.943\n",
            "Epoch 023:| Loss: 0.14564 | Acc : 0.943\n",
            "Epoch 024:| Loss: 0.14328 | Acc : 0.943\n",
            "Epoch 025:| Loss: 0.14232 | Acc : 0.944\n",
            "Epoch 026:| Loss: 0.14301 | Acc : 0.944\n",
            "Epoch 027:| Loss: 0.14024 | Acc : 0.944\n",
            "Epoch 028:| Loss: 0.13954 | Acc : 0.944\n",
            "Epoch 029:| Loss: 0.13857 | Acc : 0.945\n",
            "Epoch 030:| Loss: 0.13599 | Acc : 0.945\n",
            "Epoch 031:| Loss: 0.13551 | Acc : 0.945\n",
            "Epoch 032:| Loss: 0.13398 | Acc : 0.946\n",
            "Epoch 033:| Loss: 0.13344 | Acc : 0.946\n",
            "Epoch 034:| Loss: 0.13165 | Acc : 0.946\n",
            "Epoch 035:| Loss: 0.13117 | Acc : 0.947\n",
            "Epoch 036:| Loss: 0.12920 | Acc : 0.947\n",
            "Epoch 037:| Loss: 0.12761 | Acc : 0.948\n",
            "Epoch 038:| Loss: 0.12622 | Acc : 0.948\n",
            "Epoch 039:| Loss: 0.12570 | Acc : 0.948\n",
            "Epoch 040:| Loss: 0.12346 | Acc : 0.948\n",
            "Epoch 041:| Loss: 0.12141 | Acc : 0.949\n",
            "Epoch 042:| Loss: 0.12073 | Acc : 0.949\n",
            "Epoch 043:| Loss: 0.11980 | Acc : 0.950\n",
            "Epoch 044:| Loss: 0.11887 | Acc : 0.950\n",
            "Epoch 045:| Loss: 0.11630 | Acc : 0.951\n",
            "Epoch 046:| Loss: 0.11643 | Acc : 0.951\n"
          ]
        }
      ]
    },
    {
      "cell_type": "code",
      "source": [
        "#eval_model(model, test_loader)"
      ],
      "metadata": {
        "id": "_Buv8yXqXKHL"
      },
      "execution_count": null,
      "outputs": []
    },
    {
      "cell_type": "code",
      "source": [
        "pred, actuals = list(), list()\n",
        "for i, (x, y) in enumerate(test_loader):\n",
        "  y_pred = model(x)\n",
        "  y_pred = y_pred.detach().numpy()\n",
        "  \n",
        "  actual = y.numpy()\n",
        "  actual = actual.reshape((len(actual), 1))\n",
        "\n",
        "  y_pred = y_pred.round()\n",
        "\n",
        "  pred.append(y_pred)\n",
        "  actuals.append(actual)\n",
        "pred, actuals = vstack(pred), vstack(actuals)\n",
        "\n",
        "\n",
        "acc = accuracy_score(actuals, pred)\n",
        "print(acc)\n",
        "\n",
        "\n",
        "cm = confusion_matrix(actuals, pred)\n",
        "\n",
        "cm_matrix = pd.DataFrame(data=cm, columns=[ ' Normal case: 0','Actual case: 1'],  \n",
        "\n",
        "                                 index=[ 'Predict normal case: 0','Predict case: 1']) \n",
        "\n",
        "sns.heatmap(cm_matrix, annot=True, fmt='d', cmap='YlGnBu') \n"
      ],
      "metadata": {
        "id": "gnEP6JzVg1Ni"
      },
      "execution_count": null,
      "outputs": []
    },
    {
      "cell_type": "code",
      "source": [
        "AUC=accuracy_score(actuals, pred)\n",
        "fpr_keras, tpr_keras, thresholds_keras=roc_curve(actuals,pred) \n",
        "plt.plot(fpr_keras,tpr_keras,label='Keras Model(area={:.3f})'.format(AUC)) \n",
        "plt.xlabel('False Positive Rate') \n",
        "plt.ylabel('True Positive Rate') \n",
        "plt.title('ROC curve') \n",
        "plt.legend(loc='best') \n",
        "plt.show() "
      ],
      "metadata": {
        "id": "LP9100hx13KM"
      },
      "execution_count": null,
      "outputs": []
    }
  ]
}